{
 "cells": [
  {
   "cell_type": "code",
   "execution_count": 10,
   "metadata": {
    "collapsed": true
   },
   "outputs": [],
   "source": [
    "from agents.Priority_max import Priority_max\n",
    "from agents.Random import Random\n",
    "from agents.Priority_min import Priority_min\n",
    "from tichu.Env import Env\n",
    "\n",
    "env = Env(verbose=False)\n",
    "\n",
    "agent_0 = Random(position=0)\n",
    "agent_1 = Priority_min(position=1)\n",
    "agent_2 = Priority_max(position=2)\n",
    "agent_3 = Random(position=3)\n",
    "agents = [agent_0, agent_1, agent_2, agent_3]\n",
    "\n",
    "env.set_agents(agents)"
   ]
  },
  {
   "cell_type": "code",
   "execution_count": null,
   "outputs": [
    {
     "name": "stdout",
     "output_type": "stream",
     "text": [
      "Running 100000 iterations\n"
     ]
    }
   ],
   "source": [
    "n = 10 ** 5\n",
    "points = []\n",
    "\n",
    "print(f\"Running {n} iterations\")\n",
    "\n",
    "games = [env.run()[0] for i in range(n)]"
   ],
   "metadata": {
    "collapsed": false,
    "pycharm": {
     "is_executing": true
    }
   }
  },
  {
   "cell_type": "code",
   "execution_count": null,
   "outputs": [],
   "source": [
    "import numpy as np\n",
    "\n",
    "print([a.strategy for a in agents])\n",
    "np.sum(games, axis=0) / len(games)"
   ],
   "metadata": {
    "collapsed": false
   }
  }
 ],
 "metadata": {
  "kernelspec": {
   "display_name": "Python 3",
   "language": "python",
   "name": "python3"
  },
  "language_info": {
   "codemirror_mode": {
    "name": "ipython",
    "version": 2
   },
   "file_extension": ".py",
   "mimetype": "text/x-python",
   "name": "python",
   "nbconvert_exporter": "python",
   "pygments_lexer": "ipython2",
   "version": "2.7.6"
  }
 },
 "nbformat": 4,
 "nbformat_minor": 0
}
