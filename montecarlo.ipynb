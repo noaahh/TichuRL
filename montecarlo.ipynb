{
 "cells": [
  {
   "cell_type": "code",
   "execution_count": 1,
   "metadata": {
    "collapsed": true
   },
   "outputs": [
    {
     "ename": "ModuleNotFoundError",
     "evalue": "No module named 'agents'",
     "output_type": "error",
     "traceback": [
      "\u001B[0;31m---------------------------------------------------------------------------\u001B[0m",
      "\u001B[0;31mModuleNotFoundError\u001B[0m                       Traceback (most recent call last)",
      "Cell \u001B[0;32mIn [1], line 1\u001B[0m\n\u001B[0;32m----> 1\u001B[0m \u001B[38;5;28;01mfrom\u001B[39;00m \u001B[38;5;21;01magents\u001B[39;00m\u001B[38;5;21;01m.\u001B[39;00m\u001B[38;5;21;01mPriority_max_copy\u001B[39;00m \u001B[38;5;28;01mimport\u001B[39;00m Priority_max_copy\n\u001B[1;32m      2\u001B[0m \u001B[38;5;28;01mfrom\u001B[39;00m \u001B[38;5;21;01magents\u001B[39;00m\u001B[38;5;21;01m.\u001B[39;00m\u001B[38;5;21;01mPriority_min_copy\u001B[39;00m \u001B[38;5;28;01mimport\u001B[39;00m Priority_min_copy\n\u001B[1;32m      3\u001B[0m \u001B[38;5;28;01mfrom\u001B[39;00m \u001B[38;5;21;01magents\u001B[39;00m\u001B[38;5;21;01m.\u001B[39;00m\u001B[38;5;21;01mPriority_max\u001B[39;00m \u001B[38;5;28;01mimport\u001B[39;00m Priority_max\n",
      "\u001B[0;31mModuleNotFoundError\u001B[0m: No module named 'agents'"
     ]
    }
   ],
   "source": [
    "from agents.Priority_max_copy import Priority_max_copy\n",
    "from agents.Priority_min_copy import Priority_min_copy\n",
    "from agents.Priority_max import Priority_max\n",
    "from agents.Random import Random\n",
    "from agents.Priority_min import Priority_min\n",
    "from tichu.Env import Env\n",
    "\n",
    "env = Env(verbose=False)\n",
    "\n",
    "agent_0 = Priority_max_copy(position=0)\n",
    "agent_1 = Priority_max_copy(position=1)\n",
    "agent_2 = Priority_min_copy(position=2)\n",
    "agent_3 = Priority_min_copy(position=3)\n",
    "agents = [agent_0, agent_1, agent_2, agent_3]\n",
    "\n",
    "env.set_agents(agents)"
   ]
  },
  {
   "cell_type": "code",
   "execution_count": null,
   "outputs": [],
   "source": [
    "n = 10 ** 4\n",
    "points = []\n",
    "\n",
    "print(f\"Running {n} iterations\")\n",
    "\n",
    "game_wins = []\n",
    "\n",
    "for i in range(n):\n",
    "    if i % 100 == 0:\n",
    "        print(f\"Iteration: {i}\")\n",
    "\n",
    "    game_points, accumulated_player_points = env.run()\n",
    "\n",
    "    # Accumulated win stats\n",
    "    win_stats = game_wins[i-1][:] if i != 0 else [0 for x in range(4)]\n",
    "    win_index = game_points.index(max(game_points))\n",
    "    win_stats[win_index] = win_stats[win_index] + 1\n",
    "    game_wins.append(win_stats)"
   ],
   "metadata": {
    "collapsed": false
   }
  },
  {
   "cell_type": "code",
   "execution_count": null,
   "outputs": [],
   "source": [
    "import numpy as np\n",
    "import matplotlib.pyplot as plt\n",
    "\n",
    "for i in range(len(agents)):\n",
    "    plt.plot([i for i in range(n)], np.array(game_wins)[:,i], label=f\"{agents[i].position}: {agents[i].strategy}\")\n",
    "\n",
    "plt.legend()\n",
    "plt.title(\"Accumulated wins by agent strategy\")\n",
    "plt.show()"
   ],
   "metadata": {
    "collapsed": false
   }
  },
  {
   "cell_type": "code",
   "execution_count": null,
   "outputs": [],
   "source": [
    "print([i for i in range(100)])"
   ],
   "metadata": {
    "collapsed": false,
    "pycharm": {
     "is_executing": true
    }
   }
  }
 ],
 "metadata": {
  "kernelspec": {
   "display_name": "Python 3",
   "language": "python",
   "name": "python3"
  },
  "language_info": {
   "codemirror_mode": {
    "name": "ipython",
    "version": 2
   },
   "file_extension": ".py",
   "mimetype": "text/x-python",
   "name": "python",
   "nbconvert_exporter": "python",
   "pygments_lexer": "ipython2",
   "version": "2.7.6"
  }
 },
 "nbformat": 4,
 "nbformat_minor": 0
}
