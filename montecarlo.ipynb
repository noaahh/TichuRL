{
 "cells": [
  {
   "cell_type": "code",
   "execution_count": 1,
   "metadata": {
    "collapsed": true
   },
   "outputs": [],
   "source": [
    "from agents.Random import Random\n",
    "from agents.Priority_min import Priority_min\n",
    "from tichu.Env import Env\n",
    "\n",
    "env = Env(verbose=False)\n",
    "\n",
    "agent_0 = Priority_min(position=0)\n",
    "agent_1 = Priority_min(position=1)\n",
    "agent_2 = Random(position=2)\n",
    "agent_3 = Random(position=3)\n",
    "\n",
    "env.set_agents([agent_0, agent_1, agent_2, agent_3])"
   ]
  },
  {
   "cell_type": "code",
   "execution_count": 2,
   "outputs": [
    {
     "name": "stdout",
     "output_type": "stream",
     "text": [
      "Running 10 iterations\n",
      "Iteration: 0\n",
      "[340, 205, 40, 115]\n",
      "[300, 270, 110, 0]\n",
      "[325, 255, 0, 115]\n",
      "[230, 110, 10, 345]\n",
      "[340, 0, 220, 135]\n",
      "[335, 220, 140, 0]\n",
      "[15, 210, 315, 160]\n",
      "[0, 315, 260, 125]\n",
      "[335, 235, 100, 30]\n",
      "[205, 305, 145, 40]\n"
     ]
    }
   ],
   "source": [
    "n = 10\n",
    "points = []\n",
    "\n",
    "print(f\"Running {n} iterations\")\n",
    "for i in range(n):\n",
    "    if i % 100 == 0:\n",
    "        print(f\"Iteration: {i}\")\n",
    "\n",
    "    player_ids, game_points, accumulated_player_points = env.run()\n",
    "    print(game_points)"
   ],
   "metadata": {
    "collapsed": false
   }
  }
 ],
 "metadata": {
  "kernelspec": {
   "display_name": "Python 3",
   "language": "python",
   "name": "python3"
  },
  "language_info": {
   "codemirror_mode": {
    "name": "ipython",
    "version": 2
   },
   "file_extension": ".py",
   "mimetype": "text/x-python",
   "name": "python",
   "nbconvert_exporter": "python",
   "pygments_lexer": "ipython2",
   "version": "2.7.6"
  }
 },
 "nbformat": 4,
 "nbformat_minor": 0
}
