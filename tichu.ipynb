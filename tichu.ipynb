{
 "cells": [
  {
   "cell_type": "code",
   "execution_count": 1,
   "metadata": {
    "collapsed": true
   },
   "outputs": [
    {
     "ename": "ModuleNotFoundError",
     "evalue": "No module named 'agents'",
     "output_type": "error",
     "traceback": [
      "\u001B[0;31m---------------------------------------------------------------------------\u001B[0m",
      "\u001B[0;31mModuleNotFoundError\u001B[0m                       Traceback (most recent call last)",
      "Cell \u001B[0;32mIn [1], line 1\u001B[0m\n\u001B[0;32m----> 1\u001B[0m \u001B[38;5;28;01mfrom\u001B[39;00m \u001B[38;5;21;01magents\u001B[39;00m\u001B[38;5;21;01m.\u001B[39;00m\u001B[38;5;21;01mPriority_max_copy\u001B[39;00m \u001B[38;5;28;01mimport\u001B[39;00m Priority_max_copy\n\u001B[1;32m      2\u001B[0m \u001B[38;5;28;01mfrom\u001B[39;00m \u001B[38;5;21;01magents\u001B[39;00m\u001B[38;5;21;01m.\u001B[39;00m\u001B[38;5;21;01mPriority_min_copy\u001B[39;00m \u001B[38;5;28;01mimport\u001B[39;00m Priority_min_copy\n\u001B[1;32m      3\u001B[0m \u001B[38;5;28;01mfrom\u001B[39;00m \u001B[38;5;21;01magents\u001B[39;00m\u001B[38;5;21;01m.\u001B[39;00m\u001B[38;5;21;01mPriority_max\u001B[39;00m \u001B[38;5;28;01mimport\u001B[39;00m Priority_max\n",
      "\u001B[0;31mModuleNotFoundError\u001B[0m: No module named 'agents'"
     ]
    }
   ],
   "source": [
    "from agents.Priority_max_copy import Priority_max_copy\n",
    "from agents.Priority_min_copy import Priority_min_copy\n",
    "from agents.Priority_max import Priority_max\n",
    "from agents.Random import Random\n",
    "from agents.Priority_min import Priority_min\n",
    "\n",
    "env = Env(verbose=False)\n",
    "\n",
    "agent_0 = Priority_max_copy(position=0)\n",
    "agent_1 = Priority_max_copy(position=1)\n",
    "agent_2 = Priority_min_copy(position=2)\n",
    "agent_3 = Priority_min_copy(position=3)\n",
    "agents = [agent_0, agent_1, agent_2, agent_3]\n",
    "\n",
    "env.set_agents(agents)"
   ]
  },
  {
   "cell_type": "code",
   "execution_count": 1,
   "outputs": [
    {
     "name": "stdout",
     "output_type": "stream",
     "text": [
      "Priority_min_copy_Priority_min_copy: 604\n",
      "Priority_min_Priority_min: 598\n",
      "Priority_min_Priority_min_copy: 592\n",
      "Priority_min_Random: 550\n",
      "Priority_min_copy_Random: 547\n",
      "Priority_max_Priority_min_copy: 545\n",
      "Priority_max_Priority_min: 537\n",
      "Random_Random: 502\n",
      "Priority_max_Random: 483\n",
      "Priority_max_Priority_max: 442\n"
     ]
    }
   ],
   "source": [
    "from agents.Priority_max import Priority_max\n",
    "from agents.Priority_min import Priority_min\n",
    "from agents.Priority_min_copy import Priority_min_copy\n",
    "from agents.Random import Random\n",
    "from tichu.Tournament import Tournament\n",
    "\n",
    "agents = [Priority_min(position=0), Random(position=3), Priority_max(position=1), Priority_min_copy(position=2)]\n",
    "\n",
    "wins = {}\n",
    "for k in range(20):\n",
    "    tournament = Tournament(agents)\n",
    "    tournament.play()\n",
    "\n",
    "    for team in tournament.teams:\n",
    "        wins.setdefault(team.get_team_id(), 0)\n",
    "        wins[team.get_team_id()] += team.score\n",
    "\n",
    "# Print sorted wins\n",
    "for k, v in sorted(wins.items(), key=lambda item: item[1], reverse=True):\n",
    "    print(f\"{k}: {v}\")"
   ],
   "metadata": {
    "collapsed": false
   }
  }
 ],
 "metadata": {
  "kernelspec": {
   "display_name": "Python 3",
   "language": "python",
   "name": "python3"
  },
  "language_info": {
   "codemirror_mode": {
    "name": "ipython",
    "version": 2
   },
   "file_extension": ".py",
   "mimetype": "text/x-python",
   "name": "python",
   "nbconvert_exporter": "python",
   "pygments_lexer": "ipython2",
   "version": "2.7.6"
  }
 },
 "nbformat": 4,
 "nbformat_minor": 0
}
