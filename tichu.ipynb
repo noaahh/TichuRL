{
 "cells": [
  {
   "cell_type": "markdown",
   "metadata": {},
   "source": [
    "# How do combinations of strategies perform against each other in Tichu?\n",
    "> wer - OMC"
   ]
  },
  {
   "cell_type": "markdown",
   "metadata": {},
   "source": [
    "## What's Tichu?\n",
    "Tichu is a two to four-player Chinese-style card game. The objective of the game is for players to form both pairs and combinations of sets to score points. It is played with a deck of 54 cards plus four special cards.\n",
    "\n",
    "The game is played in rounds, and each team takes turns playing their cards. The cards range in value from 2-10, with Ace being the highest and 2 the lowest.\n",
    "\n",
    "For this OMC, we decided to take a simplified version of the game to allow to focus on the probability calculation and not spend too much time on the coding the environment.\n",
    "\n",
    "As a base we took this code repository: https://github.com/sylee421/TichuRL\n",
    "\n",
    "We, however, reworked and added logic to the infrastructure:\n",
    "    - Added new agents for better competition\n",
    "    - Added tournament logic\n",
    "    - Removed machine learning aspects\n",
    "    - Improved points distribution to be more realistic to the actual rule set.\n",
    "\n",
    "\n",
    "\n"
   ]
  },
  {
   "cell_type": "markdown",
   "metadata": {},
   "source": [
    "# Structure\n",
    "There are four levels to the simulated environment:\n",
    "    * Tournament\n",
    "        * Pairing\n",
    "            * Game\n",
    "                * Round\n",
    "\n",
    "\n",
    "\n",
    "## Tournament\n",
    "Set of games played by every possible pairing.\n",
    "\n",
    "### Pairing\n",
    "A matchup between two teams.\n",
    "\n",
    "#### Team\n",
    "Combination of two agents. (strategies)\n",
    "\n",
    "### Game\n",
    "A game of two teams which is played n amount of rounds.\n",
    "\n",
    "#### Round\n",
    "A round is a turn of cards played until every player in the game decides to no longer play a card, either voluntarily or by force (can't play a combination)\n",
    "\n",
    "It starts with starting player (random for first round, afterwards winning player starts\n",
    "\n",
    "##### Combination\n",
    "\n",
    "\n",
    "## Cycle\n",
    "A tournament plays a x amount of games for each pairing provided and determines\n",
    "\n",
    "The cumulative score is shown on the plot below"
   ]
  },
  {
   "cell_type": "markdown",
   "metadata": {},
   "source": [
    "## Strategy Definitions\n",
    "\n",
    "### Consverative\n",
    "Plays defensively, minimizing their risk and looking for opportunities to score points in the long run. Plays the highest combination\n",
    "### Random\n",
    "Plays completely random.\n",
    "### Risk Taker\n",
    "\n",
    "### Max\n"
   ]
  },
  {
   "cell_type": "code",
   "execution_count": null,
   "metadata": {},
   "outputs": [],
   "source": [
    "from tichu.Tournament import Tournament\n",
    "from tichu.agents.Max import Max\n",
    "from tichu.agents.Risk import Risk\n",
    "from tichu.agents.Conservative import Conservative\n",
    "from tichu.agents.Random import Random"
   ]
  },
  {
   "cell_type": "code",
   "execution_count": null,
   "metadata": {},
   "outputs": [],
   "source": [
    "available_agents = [Random(), Max(), Risk(), Conservative()]\n",
    "matches_per_pairing = 5000\n",
    "\n",
    "force_play = True\n",
    "\n",
    "tournament = Tournament.load()\n",
    "if tournament is None or force_play:\n",
    "    tournament = Tournament(available_agents, matches_per_pairing=matches_per_pairing)\n",
    "    tournament.play()\n",
    "\n",
    "    tournament.save()"
   ]
  },
  {
   "cell_type": "markdown",
   "metadata": {},
   "source": [
    "### Results"
   ]
  },
  {
   "cell_type": "code",
   "execution_count": null,
   "metadata": {},
   "outputs": [],
   "source": [
    "tournament.plot_cumulative_score()\n",
    "tournament.plot_total_score()"
   ]
  },
  {
   "cell_type": "markdown",
   "metadata": {},
   "source": [
    "## Analysis\n",
    "\n"
   ]
  },
  {
   "cell_type": "code",
   "execution_count": null,
   "metadata": {},
   "outputs": [],
   "source": [
    "con_con = tournament.get_team(\"Conservative & Conservative\")\n",
    "risk_risk = tournament.get_team(\"Risk Taker & Risk Taker\")\n",
    "con_risk = tournament.get_team(\"Conservative & Risk Taker\")\n",
    "\n",
    "analysis_teams = [con_con, risk_risk, con_risk]\n",
    "\n",
    "def show_team_plots(team):\n",
    "    team.plot_win_and_draw_probability_against_teams(against_teams=analysis_teams)\n",
    "    team.plot_rounds_for_win(against_teams=analysis_teams)\n",
    "\n",
    "confidence_probability = .95\n",
    "def print_team_win_confidence_intervals(team):\n",
    "    for against_team in analysis_teams:\n",
    "        if against_team is team:\n",
    "            continue\n",
    "\n",
    "        interval = team.get_win_confidence_interval(against_team.get_team_id(), confidence_level=confidence_probability)\n",
    "        print(f\"- against '{against_team}': [{interval[0]};{interval[1]}]\")"
   ]
  },
  {
   "cell_type": "markdown",
   "metadata": {},
   "source": [
    "### Conservative & Conservative\n",
    "Conservative & Conservative seems to perform best in the early game, it wins"
   ]
  },
  {
   "cell_type": "code",
   "execution_count": null,
   "metadata": {},
   "outputs": [],
   "source": [
    "show_team_plots(con_con)"
   ]
  },
  {
   "cell_type": "code",
   "execution_count": null,
   "metadata": {},
   "outputs": [],
   "source": [
    "print_team_win_confidence_intervals(con_con)"
   ]
  },
  {
   "cell_type": "markdown",
   "metadata": {},
   "source": [
    "### Risk Taker & Risk Taker\n",
    "Risk Taker & Risk Taker seems to be pretty even with the other two, with around a 50% win probability against both teams."
   ]
  },
  {
   "cell_type": "code",
   "execution_count": null,
   "metadata": {},
   "outputs": [],
   "source": [
    "show_team_plots(risk_risk)"
   ]
  },
  {
   "cell_type": "code",
   "execution_count": null,
   "metadata": {},
   "outputs": [],
   "source": [
    "print_team_win_confidence_intervals(con_con)"
   ]
  },
  {
   "cell_type": "markdown",
   "metadata": {},
   "source": [
    "### Conservative & Risk Taker\n",
    "..."
   ]
  },
  {
   "cell_type": "code",
   "execution_count": null,
   "metadata": {},
   "outputs": [],
   "source": [
    "show_team_plots(con_risk)"
   ]
  },
  {
   "cell_type": "code",
   "execution_count": null,
   "metadata": {},
   "outputs": [],
   "source": [
    "print_team_win_confidence_intervals(con_risk)"
   ]
  }
 ],
 "metadata": {
  "kernelspec": {
   "display_name": "Python 3 (ipykernel)",
   "language": "python",
   "name": "python3"
  },
  "language_info": {
   "codemirror_mode": {
    "name": "ipython",
    "version": 3
   },
   "file_extension": ".py",
   "mimetype": "text/x-python",
   "name": "python",
   "nbconvert_exporter": "python",
   "pygments_lexer": "ipython3",
   "version": "3.10.7"
  }
 },
 "nbformat": 4,
 "nbformat_minor": 1
}
